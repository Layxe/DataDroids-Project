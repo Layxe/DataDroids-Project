{
 "cells": [
  {
   "cell_type": "code",
   "metadata": {
    "id": "NsdCq2IaagWD",
    "ExecuteTime": {
     "end_time": "2024-04-12T09:43:27.629714Z",
     "start_time": "2024-04-12T09:43:21.907416Z"
    }
   },
   "source": [
    "import torch\n",
    "import torchvision\n",
    "import torchvision.transforms as transforms\n",
    "import matplotlib.pyplot as plt\n",
    "import numpy as np\n",
    "import torch.nn as nn\n",
    "import torch.nn.functional as F\n",
    "import torch.optim as optim\n",
    "from torch.utils.tensorboard import SummaryWriter\n",
    "import sklearn"
   ],
   "outputs": [],
   "execution_count": 19
  },
  {
   "cell_type": "code",
   "source": [
    "transform = transforms.Compose(\n",
    "    [transforms.ToTensor(),\n",
    "     transforms.Normalize((0.5, 0.5, 0.5), (0.5, 0.5, 0.5))])\n",
    "\n",
    "batch_size = 4\n",
    "\n",
    "trainset = torchvision.datasets.CIFAR10(root='./data', train=True,\n",
    "                                        download=True, transform=transform)\n",
    "trainloader = torch.utils.data.DataLoader(trainset, batch_size=batch_size,\n",
    "                                          shuffle=True, num_workers=2)\n",
    "\n",
    "testset = torchvision.datasets.CIFAR10(root='./data', train=False,\n",
    "                                       download=True, transform=transform)\n",
    "testloader = torch.utils.data.DataLoader(testset, batch_size=batch_size,\n",
    "                                         shuffle=False, num_workers=2)\n",
    "\n",
    "classes = ('plane', 'car', 'bird', 'cat',\n",
    "           'deer', 'dog', 'frog', 'horse', 'ship', 'truck')"
   ],
   "metadata": {
    "colab": {
     "base_uri": "https://localhost:8080/"
    },
    "id": "11K6wIiYa9yu",
    "outputId": "2080828d-f74b-4c78-ba5b-d31338c7a287",
    "ExecuteTime": {
     "end_time": "2024-04-12T09:22:34.276704Z",
     "start_time": "2024-04-12T09:22:30.509429Z"
    }
   },
   "outputs": [
    {
     "name": "stdout",
     "output_type": "stream",
     "text": [
      "Files already downloaded and verified\n",
      "Files already downloaded and verified\n"
     ]
    }
   ],
   "execution_count": 11
  },
  {
   "cell_type": "code",
   "metadata": {
    "colab": {
     "base_uri": "https://localhost:8080/",
     "height": 267
    },
    "id": "fyaC697RagWF",
    "outputId": "4926f656-08ca-444d-f786-d5c3b1201f8f",
    "ExecuteTime": {
     "end_time": "2024-04-12T09:23:04.661949Z",
     "start_time": "2024-04-12T09:22:34.280729Z"
    }
   },
   "source": [
    "# functions to show an image\n",
    "def imshow(img):\n",
    "    img = img / 2 + 0.5     # unnormalize\n",
    "    npimg = img.numpy()\n",
    "    plt.imshow(np.transpose(npimg, (1, 2, 0)))\n",
    "    plt.show()\n",
    "\n",
    "\n",
    "# get some random training images\n",
    "dataiter = iter(trainloader)\n",
    "images, labels = next(dataiter)\n",
    "\n",
    "# show images\n",
    "imshow(torchvision.utils.make_grid(images))\n",
    "# print labels\n",
    "print(' '.join(f'{classes[labels[j]]:5s}' for j in range(batch_size)))"
   ],
   "outputs": [
    {
     "data": {
      "text/plain": [
       "<Figure size 640x480 with 1 Axes>"
      ],
      "image/png": "[encoded data removed]"
     },
     "metadata": {},
     "output_type": "display_data"
    },
    {
     "name": "stdout",
     "output_type": "stream",
     "text": [
      "ship  dog   ship  dog  \n"
     ]
    }
   ],
   "execution_count": 12
  },
  {
   "cell_type": "code",
   "source": [
    "class Net(nn.Module):\n",
    "    def __init__(self):\n",
    "        super().__init__()\n",
    "        self.conv1 = nn.Conv2d(3, 8, 3)         # 32x32 -> 30x30\n",
    "        self.conv2 = nn.Conv2d(8, 16, 3)        # 30x30 -> 28x28\n",
    "        self.pool = nn.MaxPool2d(2, 2)          # 28x28 -> 14x14\n",
    "        self.conv3 = nn.Conv2d(16, 32, 3)       # 14x14 -> 12x12\n",
    "        self.conv4 = nn.Conv2d(32, 64, 3)       # 12x12 -> 10x10\n",
    "                                                # 10x10 -> 5x5\n",
    "        self.fc1 = nn.Linear(64 * 5 * 5, 4096)\n",
    "        self.fc2 = nn.Linear(4096, 1000)\n",
    "        self.fc3 = nn.Linear(1000, 10)\n",
    "\n",
    "    def forward(self, x):\n",
    "        x = F.relu(self.conv1(x))\n",
    "        x = self.pool(F.relu(self.conv2(x)))\n",
    "        x = F.relu(self.conv3(x))\n",
    "        x = self.pool(F.relu(self.conv4(x)))\n",
    "        x = torch.flatten(x, 1) # flatten all dimensions except batch\n",
    "        x = F.relu(self.fc1(x))\n",
    "        x = F.relu(self.fc2(x))\n",
    "        x = self.fc3(x)\n",
    "        return x\n",
    "\n",
    "\n",
    "net = Net()"
   ],
   "metadata": {
    "id": "hypDQ1eybOtB",
    "ExecuteTime": {
     "end_time": "2024-04-12T09:23:04.875743Z",
     "start_time": "2024-04-12T09:23:04.668974Z"
    }
   },
   "outputs": [],
   "execution_count": 13
  },
  {
   "cell_type": "code",
   "source": [
    "criterion = nn.CrossEntropyLoss()\n",
    "optimizer = optim.SGD(net.parameters(), lr=0.001, momentum=0.9)"
   ],
   "metadata": {
    "id": "FfsD0ZVrbQ-x",
    "ExecuteTime": {
     "end_time": "2024-04-12T09:23:04.889115Z",
     "start_time": "2024-04-12T09:23:04.878755Z"
    }
   },
   "outputs": [],
   "execution_count": 14
  },
  {
   "metadata": {
    "ExecuteTime": {
     "end_time": "2024-04-12T09:23:05.190233Z",
     "start_time": "2024-04-12T09:23:04.892666Z"
    }
   },
   "cell_type": "code",
   "source": [
    "# set device to cuda if available\n",
    "device = torch.device(\"cuda:0\" if torch.cuda.is_available() else \"cpu\")\n",
    "net.to(device)"
   ],
   "outputs": [
    {
     "data": {
      "text/plain": [
       "Net(\n",
       "  (conv1): Conv2d(3, 8, kernel_size=(3, 3), stride=(1, 1))\n",
       "  (conv2): Conv2d(8, 16, kernel_size=(3, 3), stride=(1, 1))\n",
       "  (pool): MaxPool2d(kernel_size=2, stride=2, padding=0, dilation=1, ceil_mode=False)\n",
       "  (conv3): Conv2d(16, 32, kernel_size=(3, 3), stride=(1, 1))\n",
       "  (conv4): Conv2d(32, 64, kernel_size=(3, 3), stride=(1, 1))\n",
       "  (fc1): Linear(in_features=1600, out_features=4096, bias=True)\n",
       "  (fc2): Linear(in_features=4096, out_features=1000, bias=True)\n",
       "  (fc3): Linear(in_features=1000, out_features=10, bias=True)\n",
       ")"
      ]
     },
     "execution_count": 15,
     "metadata": {},
     "output_type": "execute_result"
    }
   ],
   "execution_count": 15
  },
  {
   "cell_type": "code",
   "source": [
    "writer = SummaryWriter()\n",
    "\n",
    "for epoch in range(2):  # loop over the dataset multiple times\n",
    "\n",
    "    running_loss = 0.0\n",
    "    for i, data in enumerate(trainloader, 0):\n",
    "        # get the inputs; data is a list of [inputs, labels]\n",
    "        inputs, labels = data\n",
    "\n",
    "        # zero the parameter gradients\n",
    "        optimizer.zero_grad()\n",
    "\n",
    "        # forward + backward + optimize\n",
    "        outputs = net(inputs.to(device))\n",
    "        loss = criterion(outputs, labels.to(device))\n",
    "        writer.add_scalar(\"Loss/train\", loss, epoch)\n",
    "        loss.backward()\n",
    "        optimizer.step()\n",
    "\n",
    "        # print statistics\n",
    "        running_loss += loss.item()\n",
    "        if i % 2000 == 1999:    # print every 2000 mini-batches\n",
    "            print(f'[{epoch + 1}, {i + 1:5d}] loss: {running_loss / 2000:.3f}')\n",
    "            running_loss = 0.0\n",
    "\n",
    "writer.flush()\n",
    "\n",
    "print('Finished Training')"
   ],
   "metadata": {
    "colab": {
     "base_uri": "https://localhost:8080/"
    },
    "id": "ppoPgNN3bhEa",
    "outputId": "1af21152-0a2a-4db9-b277-72ee3cd99520",
    "ExecuteTime": {
     "end_time": "2024-04-12T09:31:17.740163Z",
     "start_time": "2024-04-12T09:23:05.192778Z"
    }
   },
   "outputs": [
    {
     "name": "stdout",
     "output_type": "stream",
     "text": [
      "[1,  2000] loss: 2.303\n",
      "[1,  4000] loss: 2.298\n",
      "[1,  6000] loss: 1.999\n",
      "[1,  8000] loss: 1.761\n",
      "[1, 10000] loss: 1.646\n",
      "[1, 12000] loss: 1.564\n",
      "[2,  2000] loss: 1.451\n",
      "[2,  4000] loss: 1.372\n",
      "[2,  6000] loss: 1.322\n",
      "[2,  8000] loss: 1.268\n",
      "[2, 10000] loss: 1.238\n",
      "[2, 12000] loss: 1.210\n",
      "Finished Training\n"
     ]
    }
   ],
   "execution_count": 16
  },
  {
   "cell_type": "markdown",
   "source": [
    "CPU                | Nvidia 1050\n",
    "-------------------|-------------\n",
    "26 min 6 s (colab) | 3 min 54 s\n",
    "4 min 14 s (lokal) |"
   ],
   "metadata": {
    "id": "pkqCyT_Hf9rF"
   }
  },
  {
   "metadata": {
    "ExecuteTime": {
     "end_time": "2024-04-12T09:39:01.749605Z",
     "start_time": "2024-04-12T09:39:01.739818Z"
    }
   },
   "cell_type": "code",
   "source": "writer.close()",
   "outputs": [],
   "execution_count": 18
  }
 ],
 "metadata": {
  "kernelspec": {
   "display_name": "Python 3",
   "language": "python",
   "name": "python3"
  },
  "language_info": {
   "codemirror_mode": {
    "name": "ipython",
    "version": 3
   },
   "file_extension": ".py",
   "mimetype": "text/x-python",
   "name": "python",
   "nbconvert_exporter": "python",
   "pygments_lexer": "ipython3",
   "version": "3.12.2"
  },
  "colab": {
   "provenance": [],
   "toc_visible": true
  }
 },
 "nbformat": 4,
 "nbformat_minor": 0
}
