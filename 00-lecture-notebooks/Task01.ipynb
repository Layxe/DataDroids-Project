{
 "cells": [
  {
   "cell_type": "code",
   "execution_count": 1,
   "metadata": {},
   "outputs": [],
   "source": [
    "import torch\n",
    "import torchvision\n",
    "import matplotlib.pyplot as plt\n",
    "import numpy as np\n",
    "import time"
   ]
  },
  {
   "cell_type": "code",
   "execution_count": 2,
   "metadata": {},
   "outputs": [
    {
     "data": {
      "text/plain": [
       "<torch._C.Generator at 0x7f020c482470>"
      ]
     },
     "execution_count": 2,
     "metadata": {},
     "output_type": "execute_result"
    }
   ],
   "source": [
    "n_epochs = 3\n",
    "batch_size_train = 64\n",
    "batch_size_test = 1000\n",
    "learning_rate = 0.01\n",
    "momentum = 0.5\n",
    "log_interval = 10\n",
    "\n",
    "random_seed = 1\n",
    "torch.backends.cudnn.enabled = False\n",
    "torch.manual_seed(random_seed)"
   ]
  },
  {
   "cell_type": "code",
   "execution_count": 3,
   "metadata": {},
   "outputs": [],
   "source": [
    "train_loader = torch.utils.data.DataLoader(\n",
    "  torchvision.datasets.MNIST('./files/', train=True, download=True,\n",
    "                             transform=torchvision.transforms.Compose([\n",
    "                               torchvision.transforms.ToTensor(),\n",
    "                               torchvision.transforms.Normalize(\n",
    "                                 (0.1307,), (0.3081,))\n",
    "                             ])),\n",
    "  batch_size=batch_size_train, shuffle=True)\n",
    "\n",
    "test_loader = torch.utils.data.DataLoader(\n",
    "  torchvision.datasets.MNIST('./files/', train=False, download=True,\n",
    "                             transform=torchvision.transforms.Compose([\n",
    "                               torchvision.transforms.ToTensor(),\n",
    "                               torchvision.transforms.Normalize(\n",
    "                                 (0.1307,), (0.3081,))\n",
    "                             ])),\n",
    "  batch_size=batch_size_test, shuffle=True)"
   ]
  },
  {
   "cell_type": "code",
   "execution_count": 4,
   "metadata": {},
   "outputs": [],
   "source": [
    "\n",
    "class TwoLayerNet(torch.nn.Module):\n",
    "  def __init__(self, D_in, H, D_out):\n",
    "    \"\"\"\n",
    "    In the constructor we instantiate two nn.Linear modules and assign them as\n",
    "    member variables.\n",
    "    \"\"\"\n",
    "    super(TwoLayerNet, self).__init__()\n",
    "    self.linear1 = torch.nn.Linear(D_in, H)\n",
    "    self.linear2 = torch.nn.Linear(H, D_out)\n",
    "\n",
    "  def forward(self, x):\n",
    "    \"\"\"\n",
    "    In the forward function we accept a Tensor of input data and we must return\n",
    "    a Tensor of output data. We can use Modules defined in the constructor as\n",
    "    well as arbitrary (differentiable) operations on Tensors.\n",
    "    \"\"\"\n",
    "    h_relu = self.linear1(x).clamp(min=0)\n",
    "    y_pred = self.linear2(h_relu)\n",
    "    y_pred = torch.nn.functional.log_softmax(y_pred, dim=1)\n",
    "    return y_pred\n"
   ]
  },
  {
   "cell_type": "code",
   "execution_count": 5,
   "metadata": {},
   "outputs": [
    {
     "data": {
      "text/plain": [
       "torch.Size([60000])"
      ]
     },
     "execution_count": 5,
     "metadata": {},
     "output_type": "execute_result"
    }
   ],
   "source": [
    "train_loader.dataset.data.shape\n",
    "train_loader.dataset.targets.shape"
   ]
  },
  {
   "cell_type": "code",
   "execution_count": 6,
   "metadata": {},
   "outputs": [],
   "source": [
    "\n",
    "# N is batch size; D_in is input dimension;\n",
    "# H is hidden dimension; D_out is output dimension.\n",
    "N, D_in, H, D_out = 64, 784, 100, 10\n",
    "\n",
    "# Create random Tensors to hold inputs and outputs\n",
    "x_train = train_loader.dataset.data\n",
    "y_train = train_loader.dataset.targets.float()\n",
    "\n",
    "x_train = torch.flatten(x_train, start_dim=1, end_dim=2).float()\n",
    "\n",
    "x_test = test_loader.dataset.data\n",
    "y_test = test_loader.dataset.targets.float()\n",
    "\n",
    "x_test = torch.flatten(x_test, start_dim=1, end_dim=2).float()"
   ]
  },
  {
   "cell_type": "code",
   "execution_count": 7,
   "metadata": {},
   "outputs": [
    {
     "name": "stdout",
     "output_type": "stream",
     "text": [
      "Using CPU\n",
      "Size of x_train in MiB: 179.443359375\n",
      "Size of y_train in MiB: 0.2288818359375\n"
     ]
    }
   ],
   "source": [
    "RUN_ON_GPU = True\n",
    "\n",
    "model = TwoLayerNet(D_in, H, D_out)\n",
    "loss_fn = torch.functional.F.nll_loss\n",
    "optimizer = torch.optim.SGD(model.parameters(), lr=1e-4)\n",
    "\n",
    "if RUN_ON_GPU and torch.cuda.is_available():\n",
    "  device = torch.device('cuda')\n",
    "  print('Using GPU')\n",
    "else:\n",
    "  device = torch.device('cpu')\n",
    "  print('Using CPU')\n",
    "\n",
    "model.to(device)\n",
    "\n",
    "loss_array = []\n",
    "\n",
    "print(\"Size of x_train in MiB:\", x_train.element_size() * x_train.nelement() / 1024**2)\n",
    "print(\"Size of y_train in MiB:\", y_train.element_size() * y_train.nelement() / 1024**2)\n",
    "\n",
    "for t in range(50):\n",
    "\n",
    "  x_train = x_train.to(device)\n",
    "  y_train = y_train.to(device)\n",
    "\n",
    "  # Forward pass: Compute predicted y by passing x to the model\n",
    "  y_pred = model(x_train.float())\n",
    "\n",
    "  # Compute and print loss\n",
    "  loss = loss_fn(y_pred, y_train.long())\n",
    "\n",
    "  loss_array.append(loss.item())\n",
    "\n",
    "  # Zero gradients, perform a backward pass, and update the weights.\n",
    "  optimizer.zero_grad()\n",
    "  loss.backward()\n",
    "  optimizer.step()"
   ]
  },
  {
   "cell_type": "markdown",
   "metadata": {},
   "source": [
    "# Trainingszeiten\n",
    "\n",
    "CPU: 6.4 s, 4 s, 3.9 s\n",
    "\n",
    "GPU: 0.4 s, 0.5 s 0.4s"
   ]
  },
  {
   "cell_type": "code",
   "execution_count": 8,
   "metadata": {},
   "outputs": [
    {
     "data": {
      "image/png": "[encoded data removed]",
      "text/plain": [
       "<Figure size 640x480 with 1 Axes>"
      ]
     },
     "metadata": {},
     "output_type": "display_data"
    }
   ],
   "source": [
    "plt.plot(loss_array)\n",
    "plt.xlabel('Epoch')\n",
    "plt.ylabel('Loss')\n",
    "plt.show()"
   ]
  },
  {
   "cell_type": "code",
   "execution_count": 9,
   "metadata": {},
   "outputs": [
    {
     "name": "stdout",
     "output_type": "stream",
     "text": [
      "Accuracy:\t 59.56 %\n",
      "Loss:\t\t 3.7304470539093018\n"
     ]
    }
   ],
   "source": [
    "true_guesses = 0\n",
    "\n",
    "for test_point, test_label in zip(x_test, y_test):\n",
    "  test_point = test_point.view(1, -1) # Reshape to 1x784, to match training data\n",
    "  y_pred = model(test_point)\n",
    "  if torch.argmax(y_pred) == test_label:\n",
    "    true_guesses += 1\n",
    "\n",
    "accuracy = true_guesses / len(y_test)\n",
    "print(\"Accuracy:\\t\", accuracy * 100, \"%\")\n",
    "print(\"Loss:\\t\\t\", loss_array[-1])"
   ]
  }
 ],
 "metadata": {
  "kernelspec": {
   "display_name": ".venv",
   "language": "python",
   "name": "python3"
  },
  "language_info": {
   "codemirror_mode": {
    "name": "ipython",
    "version": 3
   },
   "file_extension": ".py",
   "mimetype": "text/x-python",
   "name": "python",
   "nbconvert_exporter": "python",
   "pygments_lexer": "ipython3",
   "version": "3.10.12"
  }
 },
 "nbformat": 4,
 "nbformat_minor": 2
}
