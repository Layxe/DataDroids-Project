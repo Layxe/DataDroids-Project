{
 "cells": [
  {
   "cell_type": "code",
   "execution_count": 1,
   "metadata": {},
   "outputs": [],
   "source": [
    "import torch"
   ]
  },
  {
   "cell_type": "code",
   "execution_count": 31,
   "metadata": {},
   "outputs": [
    {
     "name": "stdout",
     "output_type": "stream",
     "text": [
      "conv1.weight torch.Size([8, 16, 3, 3])\n",
      "conv1.bias torch.Size([8])\n",
      "Total number of filters:  8\n",
      "Total number of parameters:  1160\n",
      "depthwise.weight torch.Size([16, 1, 3, 3])\n",
      "depthwise.bias torch.Size([16])\n",
      "pointwise.weight torch.Size([8, 16, 1, 1])\n",
      "pointwise.bias torch.Size([8])\n",
      "Total number of filters:  24\n",
      "Total number of parameters:  296\n"
     ]
    }
   ],
   "source": [
    "import torch.nn as nn\n",
    "\n",
    "class SimpleNN(nn.Module):\n",
    "\n",
    "    def __init__(self):\n",
    "        super(SimpleNN, self).__init__()\n",
    "        self.conv1 = nn.Conv2d(16, 8, 3)\n",
    "\n",
    "    def forward(self, x):\n",
    "        x = self.conv1(x)\n",
    "        return x\n",
    "\n",
    "class MobileNet(nn.Module):\n",
    "\n",
    "    def __init__(self):\n",
    "        super(MobileNet, self).__init__()\n",
    "        self.depthwise = nn.Conv2d(16, 16, 3, groups=16)\n",
    "        self.pointwise = nn.Conv2d(16, 8, 1)\n",
    "\n",
    "model = SimpleNN()\n",
    "\n",
    "def count_parameters(model):\n",
    "    # Print num of filters\n",
    "    total_num_filters = 0\n",
    "    num_params = 0\n",
    "\n",
    "    for name, param in model.named_parameters():\n",
    "        print(name, param.size())\n",
    "\n",
    "        if len(param.size()) == 4:\n",
    "            total_num_filters += param.size()[0]\n",
    "\n",
    "        num_params += param.numel()\n",
    "\n",
    "    print(\"Total number of filters: \", total_num_filters)\n",
    "    print(\"Total number of parameters: \", num_params)\n",
    "\n",
    "count_parameters(model)\n",
    "\n",
    "mobile_model = MobileNet()\n",
    "count_parameters(mobile_model)"
   ]
  },
  {
   "cell_type": "code",
   "execution_count": null,
   "metadata": {},
   "outputs": [],
   "source": []
  },
  {
   "cell_type": "code",
   "execution_count": null,
   "metadata": {},
   "outputs": [],
   "source": []
  }
 ],
 "metadata": {
  "kernelspec": {
   "display_name": ".venv",
   "language": "python",
   "name": "python3"
  },
  "language_info": {
   "codemirror_mode": {
    "name": "ipython",
    "version": 3
   },
   "file_extension": ".py",
   "mimetype": "text/x-python",
   "name": "python",
   "nbconvert_exporter": "python",
   "pygments_lexer": "ipython3",
   "version": "3.10.12"
  }
 },
 "nbformat": 4,
 "nbformat_minor": 2
}
